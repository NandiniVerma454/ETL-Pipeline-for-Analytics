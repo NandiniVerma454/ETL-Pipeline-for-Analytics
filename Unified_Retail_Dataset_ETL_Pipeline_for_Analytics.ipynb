{
  "nbformat": 4,
  "nbformat_minor": 0,
  "metadata": {
    "colab": {
      "provenance": []
    },
    "kernelspec": {
      "name": "python3",
      "display_name": "Python 3"
    },
    "language_info": {
      "name": "python"
    }
  },
  "cells": [
    {
      "cell_type": "markdown",
      "source": [
        "ETL [Extract -- Transform -- Load]"
      ],
      "metadata": {
        "id": "t0wvanwZ0jKd"
      }
    },
    {
      "cell_type": "code",
      "execution_count": null,
      "metadata": {
        "colab": {
          "base_uri": "https://localhost:8080/"
        },
        "id": "1xY28hTy0gNE",
        "outputId": "07c85c68-ad9b-47b4-f8c3-a537bb7549ac"
      },
      "outputs": [
        {
          "output_type": "stream",
          "name": "stdout",
          "text": [
            "✅ Files loaded\n",
            "\n",
            "👉 Customers sample:\n",
            "   customer_key  customer_id customer_number first_name last_name    country  \\\n",
            "0             1        11000      AW00011000        Jon      Yang  Australia   \n",
            "1             2        11001      AW00011001     Eugene     Huang  Australia   \n",
            "2             3        11002      AW00011002      Ruben    Torres  Australia   \n",
            "3             4        11003      AW00011003    Christy       Zhu  Australia   \n",
            "4             5        11004      AW00011004  Elizabeth   Johnson  Australia   \n",
            "\n",
            "   gender marital_status  birth_date  create_date  \n",
            "0    Male        Married  1971-10-06  10/6/2025\\r  \n",
            "1    Male         Single  1976-05-10  10/6/2025\\r  \n",
            "2    Male        Married  1971-02-09  10/6/2025\\r  \n",
            "3  Female         Single  1973-08-14  10/6/2025\\r  \n",
            "4  Female         Single  1979-08-05  10/6/2025\\r  \n",
            "\n",
            "👉 Products sample:\n",
            "   product_key  product_id product_number               product_name  \\\n",
            "0            1         210     FR-R92B-58  HL Road Frame - Black- 58   \n",
            "1            2         211     FR-R92R-58    HL Road Frame - Red- 58   \n",
            "2            3         348     BK-M82B-38     Mountain-100 Black- 38   \n",
            "3            4         349     BK-M82B-42     Mountain-100 Black- 42   \n",
            "4            5         350     BK-M82B-44     Mountain-100 Black- 44   \n",
            "\n",
            "  category_id    category    sub_category maintenance product_ine  cost  \\\n",
            "0       CO_RF  Components     Road Frames       Yes\\r        Road     0   \n",
            "1       CO_RF  Components     Road Frames       Yes\\r        Road     0   \n",
            "2       BI_MB       Bikes  Mountain Bikes       Yes\\r    Mountain  1898   \n",
            "3       BI_MB       Bikes  Mountain Bikes       Yes\\r    Mountain  1898   \n",
            "4       BI_MB       Bikes  Mountain Bikes       Yes\\r    Mountain  1898   \n",
            "\n",
            "   start_date  \n",
            "0  2003-07-01  \n",
            "1  2003-07-01  \n",
            "2  2011-07-01  \n",
            "3  2011-07-01  \n",
            "4  2011-07-01  \n",
            "\n",
            "👉 Sales sample:\n",
            "  order_number  customer_key  product_key  order_date shipping_date  \\\n",
            "0      SO43697         10769           20  2010-12-29    2011-01-05   \n",
            "1      SO43698         17390            9  2010-12-29    2011-01-05   \n",
            "2      SO43699         14864            9  2010-12-29    2011-01-05   \n",
            "3      SO43700          3502           41  2010-12-29    2011-01-05   \n",
            "4      SO43701             4            9  2010-12-29    2011-01-05   \n",
            "\n",
            "     due_date  sales  quantity  price  \n",
            "0  2011-01-10   3578         1   3578  \n",
            "1  2011-01-10   3400         1   3400  \n",
            "2  2011-01-10   3400         1   3400  \n",
            "3  2011-01-10    699         1    699  \n",
            "4  2011-01-10   3400         1   3400  \n",
            "\n",
            "Missing values in Customers:\n",
            "customer_key         0\n",
            "customer_id          0\n",
            "customer_number      0\n",
            "first_name           4\n",
            "last_name            3\n",
            "country            337\n",
            "gender              15\n",
            "marital_status       3\n",
            "birth_date          16\n",
            "create_date          0\n",
            "dtype: int64\n",
            "\n",
            "Missing values in Products:\n",
            "product_key        0\n",
            "product_id         0\n",
            "product_number     0\n",
            "product_name       0\n",
            "category_id        0\n",
            "category           7\n",
            "sub_category       7\n",
            "maintenance        7\n",
            "product_ine       17\n",
            "cost               0\n",
            "start_date         0\n",
            "dtype: int64\n",
            "\n",
            "Missing values in Sales:\n",
            "order_number      0\n",
            "customer_key      0\n",
            "product_key       0\n",
            "order_date       19\n",
            "shipping_date     0\n",
            "due_date          0\n",
            "sales             0\n",
            "quantity          0\n",
            "price             0\n",
            "dtype: int64\n"
          ]
        }
      ],
      "source": [
        "import pandas as pd\n",
        "\n",
        "# Extract\n",
        "customers = pd.read_csv('/content/g_dim_customers.csv', encoding='latin1')\n",
        "products = pd.read_csv('/content/g_dim_products.csv', encoding='latin1')\n",
        "sales = pd.read_csv('/content/g_fact_sales.csv', encoding='latin1')\n",
        "\n",
        "\n",
        "print(\"✅ Files loaded\")\n",
        "\n",
        "# Inspect and Clean (Transform)\n",
        "print(\"\\n👉 Customers sample:\")\n",
        "print(customers.head())\n",
        "\n",
        "print(\"\\n👉 Products sample:\")\n",
        "print(products.head())\n",
        "\n",
        "print(\"\\n👉 Sales sample:\")\n",
        "print(sales.head())\n",
        "\n",
        "# Check for missing data\n",
        "print(\"\\nMissing values in Customers:\")\n",
        "print(customers.isnull().sum())\n",
        "\n",
        "print(\"\\nMissing values in Products:\")\n",
        "print(products.isnull().sum())\n",
        "\n",
        "print(\"\\nMissing values in Sales:\")\n",
        "print(sales.isnull().sum())\n",
        "\n",
        "# Example cleaning:\n",
        "# Remove duplicates\n",
        "customers = customers.drop_duplicates()\n",
        "products = products.drop_duplicates()\n",
        "sales = sales.drop_duplicates()\n",
        "\n",
        "# Convert dates if present\n",
        "if 'order_date' in sales.columns:\n",
        "    sales['order_date'] = pd.to_datetime(sales['order_date'], errors='coerce')\n",
        "if 'ship_date' in sales.columns:\n",
        "    sales['ship_date'] = pd.to_datetime(sales['ship_date'], errors='coerce')\n",
        "\n",
        "# Example derived feature: shipping days\n",
        "if 'order_date' in sales.columns and 'ship_date' in sales.columns:\n",
        "    sales['shipping_days'] = (sales['ship_date'] - sales['order_date']).dt.days\n",
        "\n",
        "\n"
      ]
    },
    {
      "cell_type": "code",
      "source": [
        "#know about columns in dataset\n",
        "print(\"Sales columns:\", sales.columns.tolist())\n",
        "print(\"Customers columns:\", customers.columns.tolist())\n",
        "print(\"Products columns:\", products.columns.tolist())\n"
      ],
      "metadata": {
        "colab": {
          "base_uri": "https://localhost:8080/"
        },
        "id": "6RIA9Dm8AKx_",
        "outputId": "1fd0dc92-fbf6-46aa-ead0-ff92eb623c23"
      },
      "execution_count": null,
      "outputs": [
        {
          "output_type": "stream",
          "name": "stdout",
          "text": [
            "Sales columns: ['order_number', 'customer_key', 'product_key', 'order_date', 'shipping_date', 'due_date', 'sales', 'quantity', 'price']\n",
            "Customers columns: ['customer_key', 'customer_id', 'customer_number', 'first_name', 'last_name', 'country', 'gender', 'marital_status', 'birth_date', 'create_date']\n",
            "Products columns: ['product_key', 'product_id', 'product_number', 'product_name', 'category_id', 'category', 'sub_category', 'maintenance', 'product_ine', 'cost', 'start_date']\n"
          ]
        }
      ]
    },
    {
      "cell_type": "code",
      "source": [
        "# Merge\n",
        "df = sales.merge(customers, on='customer_key', how='left') \\\n",
        "          .merge(products, on='product_key', how='left')\n",
        "\n",
        "print(\"\\n✅ Final merged dataset shape:\", df.shape)\n",
        "\n",
        "# Check missing values\n",
        "print(\"\\nMissing values in final dataset:\")\n",
        "print(df.isnull().sum())\n",
        "\n",
        "# Fill numeric NaNs with 0\n",
        "for col in df.select_dtypes(include=['float64', 'int64']).columns:\n",
        "    df[col] = df[col].fillna(0)\n",
        "\n",
        "# Fill object NaNs with 'Unknown'\n",
        "for col in df.select_dtypes(include=['object']).columns:\n",
        "    df[col] = df[col].fillna('Unknown')\n",
        "\n",
        "# Sample\n",
        "print(\"\\n👉 Cleaned data sample:\")\n",
        "print(df.head())\n",
        "\n",
        "# Export\n",
        "df.to_csv('cleaned_sales_data.csv', index=False)\n",
        "print(\"\\n✅ Cleaned dataset exported to: cleaned_sales_data.csv\")\n"
      ],
      "metadata": {
        "colab": {
          "base_uri": "https://localhost:8080/"
        },
        "id": "MeqbYQQu-NRj",
        "outputId": "eb0a2c85-b4d4-4451-d2d1-57126032369d"
      },
      "execution_count": null,
      "outputs": [
        {
          "output_type": "stream",
          "name": "stdout",
          "text": [
            "\n",
            "✅ Final merged dataset shape: (60398, 28)\n",
            "\n",
            "Missing values in final dataset:\n",
            "order_number         0\n",
            "customer_key         0\n",
            "product_key          0\n",
            "order_date          19\n",
            "shipping_date        0\n",
            "due_date             0\n",
            "sales                0\n",
            "quantity             0\n",
            "price                0\n",
            "customer_id          0\n",
            "customer_number      0\n",
            "first_name           6\n",
            "last_name            6\n",
            "country            871\n",
            "gender              33\n",
            "marital_status       4\n",
            "birth_date          78\n",
            "create_date          0\n",
            "product_id           0\n",
            "product_number       0\n",
            "product_name         0\n",
            "category_id          0\n",
            "category             0\n",
            "sub_category         0\n",
            "maintenance          0\n",
            "product_ine          0\n",
            "cost                 0\n",
            "start_date           0\n",
            "dtype: int64\n",
            "\n",
            "👉 Cleaned data sample:\n",
            "  order_number  customer_key  product_key order_date shipping_date  \\\n",
            "0      SO43697         10769           20 2010-12-29    2011-01-05   \n",
            "1      SO43698         17390            9 2010-12-29    2011-01-05   \n",
            "2      SO43699         14864            9 2010-12-29    2011-01-05   \n",
            "3      SO43700          3502           41 2010-12-29    2011-01-05   \n",
            "4      SO43701             4            9 2010-12-29    2011-01-05   \n",
            "\n",
            "     due_date  sales  quantity  price  customer_id  ... product_id  \\\n",
            "0  2011-01-10   3578         1   3578        21768  ...        310   \n",
            "1  2011-01-10   3400         1   3400        28389  ...        346   \n",
            "2  2011-01-10   3400         1   3400        25863  ...        346   \n",
            "3  2011-01-10    699         1    699        14501  ...        337   \n",
            "4  2011-01-10   3400         1   3400        11003  ...        346   \n",
            "\n",
            "  product_number             product_name category_id category  \\\n",
            "0     BK-R93R-62         Road-150 Red- 62       BI_RB    Bikes   \n",
            "1     BK-M82S-44  Mountain-100 Silver- 44       BI_MB    Bikes   \n",
            "2     BK-M82S-44  Mountain-100 Silver- 44       BI_MB    Bikes   \n",
            "3     BK-R50B-62       Road-650 Black- 62       BI_RB    Bikes   \n",
            "4     BK-M82S-44  Mountain-100 Silver- 44       BI_MB    Bikes   \n",
            "\n",
            "     sub_category maintenance product_ine  cost  start_date  \n",
            "0      Road Bikes       Yes\\r        Road  2171  2011-07-01  \n",
            "1  Mountain Bikes       Yes\\r    Mountain  1912  2011-07-01  \n",
            "2  Mountain Bikes       Yes\\r    Mountain  1912  2011-07-01  \n",
            "3      Road Bikes       Yes\\r        Road   487  2012-07-01  \n",
            "4  Mountain Bikes       Yes\\r    Mountain  1912  2011-07-01  \n",
            "\n",
            "[5 rows x 28 columns]\n",
            "\n",
            "✅ Cleaned dataset exported to: cleaned_sales_data.csv\n"
          ]
        }
      ]
    },
    {
      "cell_type": "code",
      "source": [],
      "metadata": {
        "id": "tTBe1O1kD-Qh"
      },
      "execution_count": null,
      "outputs": []
    },
    {
      "cell_type": "markdown",
      "source": [],
      "metadata": {
        "id": "eX8yGhuK-M0z"
      }
    }
  ]
}